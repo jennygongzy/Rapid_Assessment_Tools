{
 "cells": [
  {
   "cell_type": "markdown",
   "metadata": {},
   "source": [
    "### United Nation: Rapid Assessment Tool project \n",
    "- Split text document into sentences\n",
    "- Design a matching scoring algorithm to assign weight to sentences"
   ]
  },
  {
   "cell_type": "code",
   "execution_count": 1,
   "metadata": {
    "collapsed": true
   },
   "outputs": [],
   "source": [
    "import pandas as pd"
   ]
  },
  {
   "cell_type": "code",
   "execution_count": 2,
   "metadata": {
    "collapsed": false
   },
   "outputs": [],
   "source": [
    "bhutan = pd.read_csv('bhutan_input.csv',index_col=0)"
   ]
  },
  {
   "cell_type": "code",
   "execution_count": 3,
   "metadata": {
    "collapsed": false,
    "scrolled": true
   },
   "outputs": [
    {
     "data": {
      "text/html": [
       "<div>\n",
       "<table border=\"1\" class=\"dataframe\">\n",
       "  <thead>\n",
       "    <tr style=\"text-align: right;\">\n",
       "      <th></th>\n",
       "      <th>sector</th>\n",
       "      <th>text</th>\n",
       "    </tr>\n",
       "  </thead>\n",
       "  <tbody>\n",
       "    <tr>\n",
       "      <th>0</th>\n",
       "      <td>﻿5.1</td>\n",
       "      <td>Education Sector\\n\\nThe single most important ...</td>\n",
       "    </tr>\n",
       "    <tr>\n",
       "      <th>1</th>\n",
       "      <td>5.2</td>\n",
       "      <td>Health Sector\\n\\nAll Bhutanese avail free heal...</td>\n",
       "    </tr>\n",
       "    <tr>\n",
       "      <th>2</th>\n",
       "      <td>5.3</td>\n",
       "      <td>Human Resource Development &amp; Management\\n\\nDev...</td>\n",
       "    </tr>\n",
       "    <tr>\n",
       "      <th>3</th>\n",
       "      <td>5.4</td>\n",
       "      <td>Employment\\n\\nThe Labour and Employment Act 20...</td>\n",
       "    </tr>\n",
       "    <tr>\n",
       "      <th>4</th>\n",
       "      <td>5.5</td>\n",
       "      <td>Renewable Natural Resources (RNR) Sector\\n\\nRN...</td>\n",
       "    </tr>\n",
       "    <tr>\n",
       "      <th>5</th>\n",
       "      <td>5.6</td>\n",
       "      <td>Tourism Sector\\n\\nTourism in Bhutan is governe...</td>\n",
       "    </tr>\n",
       "    <tr>\n",
       "      <th>6</th>\n",
       "      <td>5.7</td>\n",
       "      <td>Trade, Industries &amp; Mines Sector\\n\\nThis is a ...</td>\n",
       "    </tr>\n",
       "    <tr>\n",
       "      <th>7</th>\n",
       "      <td>5.8</td>\n",
       "      <td>Hydropower, Renewable Energy and Hydromet Sect...</td>\n",
       "    </tr>\n",
       "    <tr>\n",
       "      <th>8</th>\n",
       "      <td>5.9</td>\n",
       "      <td>Information, Communication &amp; Technology and Me...</td>\n",
       "    </tr>\n",
       "    <tr>\n",
       "      <th>9</th>\n",
       "      <td>5.10</td>\n",
       "      <td>Transport Sector\\n\\nTransport sector covers s...</td>\n",
       "    </tr>\n",
       "    <tr>\n",
       "      <th>10</th>\n",
       "      <td>5.11</td>\n",
       "      <td>Roads &amp; Bridges Sector\\n\\nFor a landlocked co...</td>\n",
       "    </tr>\n",
       "    <tr>\n",
       "      <th>11</th>\n",
       "      <td>5.12</td>\n",
       "      <td>Construction Sector\\n\\nThe construction secto...</td>\n",
       "    </tr>\n",
       "    <tr>\n",
       "      <th>12</th>\n",
       "      <td>5.13</td>\n",
       "      <td>Human Settlement &amp; Housing Sector\\n\\nHuman Se...</td>\n",
       "    </tr>\n",
       "    <tr>\n",
       "      <th>13</th>\n",
       "      <td>5.14</td>\n",
       "      <td>Emerging Social Challenges\\n\\nWith developmen...</td>\n",
       "    </tr>\n",
       "    <tr>\n",
       "      <th>14</th>\n",
       "      <td>5.15</td>\n",
       "      <td>Sports\\n\\nRecognizing the positive contributi...</td>\n",
       "    </tr>\n",
       "    <tr>\n",
       "      <th>15</th>\n",
       "      <td>5.16</td>\n",
       "      <td>Preservation and Promotion of Culture\\n\\nThe ...</td>\n",
       "    </tr>\n",
       "    <tr>\n",
       "      <th>16</th>\n",
       "      <td>5.17</td>\n",
       "      <td>Conservation of Environment\\n\\nThe conservati...</td>\n",
       "    </tr>\n",
       "    <tr>\n",
       "      <th>17</th>\n",
       "      <td>5.18</td>\n",
       "      <td>Good Governance\\n\\nThe fourth pillar of GNH is...</td>\n",
       "    </tr>\n",
       "  </tbody>\n",
       "</table>\n",
       "</div>"
      ],
      "text/plain": [
       "   sector                                               text\n",
       "0    ﻿5.1  Education Sector\\n\\nThe single most important ...\n",
       "1     5.2  Health Sector\\n\\nAll Bhutanese avail free heal...\n",
       "2     5.3  Human Resource Development & Management\\n\\nDev...\n",
       "3     5.4  Employment\\n\\nThe Labour and Employment Act 20...\n",
       "4     5.5  Renewable Natural Resources (RNR) Sector\\n\\nRN...\n",
       "5     5.6  Tourism Sector\\n\\nTourism in Bhutan is governe...\n",
       "6     5.7  Trade, Industries & Mines Sector\\n\\nThis is a ...\n",
       "7     5.8  Hydropower, Renewable Energy and Hydromet Sect...\n",
       "8     5.9  Information, Communication & Technology and Me...\n",
       "9    5.10   Transport Sector\\n\\nTransport sector covers s...\n",
       "10   5.11   Roads & Bridges Sector\\n\\nFor a landlocked co...\n",
       "11   5.12   Construction Sector\\n\\nThe construction secto...\n",
       "12   5.13   Human Settlement & Housing Sector\\n\\nHuman Se...\n",
       "13   5.14   Emerging Social Challenges\\n\\nWith developmen...\n",
       "14   5.15   Sports\\n\\nRecognizing the positive contributi...\n",
       "15   5.16   Preservation and Promotion of Culture\\n\\nThe ...\n",
       "16   5.17   Conservation of Environment\\n\\nThe conservati...\n",
       "17   5.18  Good Governance\\n\\nThe fourth pillar of GNH is..."
      ]
     },
     "execution_count": 3,
     "metadata": {},
     "output_type": "execute_result"
    }
   ],
   "source": [
    "bhutan"
   ]
  },
  {
   "cell_type": "code",
   "execution_count": 4,
   "metadata": {
    "collapsed": true
   },
   "outputs": [],
   "source": [
    "para_dict = {}\n",
    "def sperate(row):\n",
    "    text = row['text']\n",
    "    lst = text.split('\\n\\n')\n",
    "    sentences = []\n",
    "    for p in lst:\n",
    "        sentences = sentences+p.split('. ')\n",
    "    \n",
    "    for i,sentence in enumerate(sentences):\n",
    "        key = str(str(row['sector']).split('.')[-1])+'_'+str(i)\n",
    "        para_dict[key]=sentence\n",
    "\n",
    "    return row"
   ]
  },
  {
   "cell_type": "code",
   "execution_count": 5,
   "metadata": {
    "collapsed": false
   },
   "outputs": [],
   "source": [
    "para = bhutan.apply(sperate,axis=1)"
   ]
  },
  {
   "cell_type": "code",
   "execution_count": 6,
   "metadata": {
    "collapsed": false
   },
   "outputs": [],
   "source": [
    "para = pd.DataFrame(para_dict.values(),index = para_dict.keys(),columns=['p'])"
   ]
  },
  {
   "cell_type": "code",
   "execution_count": 7,
   "metadata": {
    "collapsed": false
   },
   "outputs": [],
   "source": [
    "import re\n",
    "def process(row):\n",
    "    \n",
    "    s = row['p']\n",
    "    s= s.decode('ascii','ignore').encode('ascii','ignore')\n",
    "    s = s.replace('\\t','').replace('\\n','')\n",
    "    s = re.sub(r'^v?i+\\)','',s)\n",
    "    s = s.strip()\n",
    "    row['p'] = s\n",
    "    \n",
    "    return row"
   ]
  },
  {
   "cell_type": "code",
   "execution_count": 8,
   "metadata": {
    "collapsed": false
   },
   "outputs": [],
   "source": [
    "para = para.apply(process,axis=1)"
   ]
  },
  {
   "cell_type": "code",
   "execution_count": 10,
   "metadata": {
    "collapsed": true
   },
   "outputs": [],
   "source": [
    "para.to_csv('sentences.csv')"
   ]
  },
  {
   "cell_type": "markdown",
   "metadata": {},
   "source": [
    "## SDG importing"
   ]
  },
  {
   "cell_type": "code",
   "execution_count": 41,
   "metadata": {
    "collapsed": false,
    "scrolled": true
   },
   "outputs": [
    {
     "data": {
      "text/html": [
       "<div>\n",
       "<table border=\"1\" class=\"dataframe\">\n",
       "  <thead>\n",
       "    <tr style=\"text-align: right;\">\n",
       "      <th></th>\n",
       "      <th>Number</th>\n",
       "      <th>SDG sub Goal content</th>\n",
       "      <th>F1_Name,S/W</th>\n",
       "      <th>F1_Dictionary</th>\n",
       "      <th>F2_Name,S/W</th>\n",
       "      <th>F2_Dictionary</th>\n",
       "      <th>F3_Name,S/W</th>\n",
       "      <th>F3_Dictionary</th>\n",
       "      <th>F4_Name,S/W</th>\n",
       "      <th>F4_Dictionary</th>\n",
       "    </tr>\n",
       "  </thead>\n",
       "  <tbody>\n",
       "    <tr>\n",
       "      <th>0</th>\n",
       "      <td>1.1</td>\n",
       "      <td>By 2030, eradicate extreme povert yfor all peo...</td>\n",
       "      <td>extreme poverty,S</td>\n",
       "      <td>extreme poverty, absolute poverty, destitution...</td>\n",
       "      <td>poverty,W</td>\n",
       "      <td>poverty,poor,famine,poornes,impoverishment,poo...</td>\n",
       "      <td>living cost, W</td>\n",
       "      <td>aliveness,bread and butter,dwell,endure,experi...</td>\n",
       "      <td>NaN</td>\n",
       "      <td>NaN</td>\n",
       "    </tr>\n",
       "    <tr>\n",
       "      <th>1</th>\n",
       "      <td>1.2</td>\n",
       "      <td>By 2030, reduce at least by half the proportio...</td>\n",
       "      <td>proportion,W</td>\n",
       "      <td>portion, proportion, rate</td>\n",
       "      <td>poverty, S</td>\n",
       "      <td>poverty,poor,need,famine,poornes,impoverishmen...</td>\n",
       "      <td>reduce,S</td>\n",
       "      <td>reduce, lessen, make less, make smaller, lower...</td>\n",
       "      <td>NaN</td>\n",
       "      <td>NaN</td>\n",
       "    </tr>\n",
       "    <tr>\n",
       "      <th>2</th>\n",
       "      <td>1.3</td>\n",
       "      <td>Implement nationally appropriate social protec...</td>\n",
       "      <td>social protection,S</td>\n",
       "      <td>social protection, labour markets, capacity, u...</td>\n",
       "      <td>poverty, S</td>\n",
       "      <td>poverty,poor,need,famine,poornes,impoverishmen...</td>\n",
       "      <td>coverage,W</td>\n",
       "      <td>coverage, analysis, insurance, report, broadca...</td>\n",
       "      <td>NaN</td>\n",
       "      <td>NaN</td>\n",
       "    </tr>\n",
       "    <tr>\n",
       "      <th>3</th>\n",
       "      <td>1.4</td>\n",
       "      <td>By 2030, ensure that all men and women, in par...</td>\n",
       "      <td>vulnerables,S</td>\n",
       "      <td>vulnerable, unemployment, ill health, disabili...</td>\n",
       "      <td>equal right, W</td>\n",
       "      <td>equal rights, feminism, rights of women, siste...</td>\n",
       "      <td>economic resource, S</td>\n",
       "      <td>economic resources, goods, services, valuable ...</td>\n",
       "      <td>service,W</td>\n",
       "      <td>service, resource, utilization, distribution, ...</td>\n",
       "    </tr>\n",
       "    <tr>\n",
       "      <th>4</th>\n",
       "      <td>1.5</td>\n",
       "      <td>By 2030, build the resilience of the poor and ...</td>\n",
       "      <td>vulnerables,S</td>\n",
       "      <td>unemployment, ill health, disability, work-rel...</td>\n",
       "      <td>extreme event,S</td>\n",
       "      <td>extreme event\\n climate-related, extreme event...</td>\n",
       "      <td>resilience, W</td>\n",
       "      <td>elasticity, flexibility, pliancy, recoil, snap...</td>\n",
       "      <td>NaN</td>\n",
       "      <td>NaN</td>\n",
       "    </tr>\n",
       "  </tbody>\n",
       "</table>\n",
       "</div>"
      ],
      "text/plain": [
       "   Number                               SDG sub Goal content  \\\n",
       "0     1.1  By 2030, eradicate extreme povert yfor all peo...   \n",
       "1     1.2  By 2030, reduce at least by half the proportio...   \n",
       "2     1.3  Implement nationally appropriate social protec...   \n",
       "3     1.4  By 2030, ensure that all men and women, in par...   \n",
       "4     1.5  By 2030, build the resilience of the poor and ...   \n",
       "\n",
       "           F1_Name,S/W                                      F1_Dictionary  \\\n",
       "0    extreme poverty,S  extreme poverty, absolute poverty, destitution...   \n",
       "1         proportion,W                          portion, proportion, rate   \n",
       "2  social protection,S  social protection, labour markets, capacity, u...   \n",
       "3        vulnerables,S  vulnerable, unemployment, ill health, disabili...   \n",
       "4        vulnerables,S  unemployment, ill health, disability, work-rel...   \n",
       "\n",
       "       F2_Name,S/W                                      F2_Dictionary  \\\n",
       "0        poverty,W  poverty,poor,famine,poornes,impoverishment,poo...   \n",
       "1       poverty, S  poverty,poor,need,famine,poornes,impoverishmen...   \n",
       "2       poverty, S  poverty,poor,need,famine,poornes,impoverishmen...   \n",
       "3   equal right, W  equal rights, feminism, rights of women, siste...   \n",
       "4  extreme event,S  extreme event\\n climate-related, extreme event...   \n",
       "\n",
       "            F3_Name,S/W                                      F3_Dictionary  \\\n",
       "0        living cost, W  aliveness,bread and butter,dwell,endure,experi...   \n",
       "1              reduce,S  reduce, lessen, make less, make smaller, lower...   \n",
       "2            coverage,W  coverage, analysis, insurance, report, broadca...   \n",
       "3  economic resource, S  economic resources, goods, services, valuable ...   \n",
       "4         resilience, W  elasticity, flexibility, pliancy, recoil, snap...   \n",
       "\n",
       "  F4_Name,S/W                                      F4_Dictionary  \n",
       "0         NaN                                                NaN  \n",
       "1         NaN                                                NaN  \n",
       "2         NaN                                                NaN  \n",
       "3   service,W  service, resource, utilization, distribution, ...  \n",
       "4         NaN                                                NaN  "
      ]
     },
     "execution_count": 41,
     "metadata": {},
     "output_type": "execute_result"
    }
   ],
   "source": [
    "target = pd.read_excel('SDG_Features0420.xlsx')\n",
    "target.head()"
   ]
  },
  {
   "cell_type": "code",
   "execution_count": 42,
   "metadata": {
    "collapsed": true
   },
   "outputs": [],
   "source": [
    "target = target.fillna(0)"
   ]
  },
  {
   "cell_type": "code",
   "execution_count": 36,
   "metadata": {
    "collapsed": true
   },
   "outputs": [],
   "source": [
    "para = pd.read_csv('sentences.csv')"
   ]
  },
  {
   "cell_type": "code",
   "execution_count": 37,
   "metadata": {
    "collapsed": true
   },
   "outputs": [],
   "source": [
    "## preprocess tokens \n",
    "## n-grams\n",
    "## to lower\n",
    "import nltk\n",
    "from nltk.tokenize import word_tokenize\n",
    "from nltk.util import ngrams\n",
    "\n",
    "porter = nltk.PorterStemmer()\n",
    "\n",
    "def get_ngrams(text, n ):\n",
    "    n_grams = ngrams(word_tokenize(text), n)\n",
    "    return [ ' '.join(grams) for grams in n_grams]\n",
    "\n",
    "def pre(row):\n",
    "    text = row['p']\n",
    "    tokens = word_tokenize(text)\n",
    "    tokens = [w.lower() for w in tokens]\n",
    "    \n",
    "    tokens = tokens + get_ngrams(text,2)\n",
    "    tokens= tokens + get_ngrams(text,3)\n",
    "    tokens= tokens + get_ngrams(text,4)\n",
    "    \n",
    "    tokens = [porter.stem(w) for w in tokens]\n",
    "    row['tokens'] = tokens\n",
    "    return row"
   ]
  },
  {
   "cell_type": "code",
   "execution_count": 38,
   "metadata": {
    "collapsed": false
   },
   "outputs": [],
   "source": [
    "para = para.apply(pre,axis=1)"
   ]
  },
  {
   "cell_type": "markdown",
   "metadata": {
    "collapsed": true
   },
   "source": [
    "##  matching "
   ]
  },
  {
   "cell_type": "code",
   "execution_count": 30,
   "metadata": {
    "collapsed": false
   },
   "outputs": [],
   "source": [
    "import pandas as pd\n",
    "import numpy as np\n",
    "para = pd.read_csv('sentences.csv')"
   ]
  },
  {
   "cell_type": "code",
   "execution_count": 27,
   "metadata": {
    "collapsed": true
   },
   "outputs": [],
   "source": [
    "target = pd.read_excel('SDG_Features0420.xlsx')\n",
    "target = target.fillna(0)"
   ]
  },
  {
   "cell_type": "code",
   "execution_count": 43,
   "metadata": {
    "collapsed": false
   },
   "outputs": [],
   "source": [
    "target.columns = ['target','content','F1','F1D','F2','F2D','F3','F3D','F4','F4D']"
   ]
  },
  {
   "cell_type": "code",
   "execution_count": 44,
   "metadata": {
    "collapsed": false,
    "scrolled": true
   },
   "outputs": [],
   "source": [
    "target['target']=target.target.astype('str')"
   ]
  },
  {
   "cell_type": "code",
   "execution_count": 45,
   "metadata": {
    "collapsed": false
   },
   "outputs": [
    {
     "data": {
      "text/plain": [
       "'16.1'"
      ]
     },
     "execution_count": 45,
     "metadata": {},
     "output_type": "execute_result"
    }
   ],
   "source": [
    "target.ix[105,'target']"
   ]
  },
  {
   "cell_type": "code",
   "execution_count": 46,
   "metadata": {
    "collapsed": true
   },
   "outputs": [],
   "source": [
    "#change target 16.10 into string \"16.10\", originally identify as 16.1\n",
    "target.ix[105,'target']='16.10'"
   ]
  },
  {
   "cell_type": "code",
   "execution_count": 48,
   "metadata": {
    "collapsed": false,
    "scrolled": true
   },
   "outputs": [],
   "source": [
    "# run 4 times \n",
    "# 1st time: range(0,31)\n",
    "# 2nd time: range(31,60)\n",
    "# 3rd time: range(60,90)\n",
    "# 4th time: range(90,107)\n",
    "import nltk\n",
    "porter = nltk.PorterStemmer()\n",
    "for t_i in range(0,106):\n",
    "    def func(row):\n",
    "        tokens = row['tokens']\n",
    "        ###\n",
    "        #s = 'poverty Human Settlement - To ensure sustainable development of human settlements, new legislation and policies will be formulated and existing rules and regulations reviewed and improved. Development of valley plans, regional hub plans and rural urban development plans will be accelerated in order to contain the rural urban migration. Capacity strengthening of engineers, architects and planners will be given emphasis.'\n",
    "        #tokens = s.split(' ')\n",
    "        ###\n",
    "        \n",
    "        s1,s2,s3,s4 = 1,1,1,1\n",
    "        w1,w2,w3,w4 = 0,0,0,0\n",
    "        \n",
    "        flag = 0 \n",
    "        \n",
    "        if target.ix[t_i,'F1']==0: #isnan \n",
    "            s1=0 #missing for the entire target\n",
    "        else:\n",
    "            for word in target.ix[t_i,'F1D'].split(','):\n",
    "                if porter.stem(word.strip()) in tokens:\n",
    "                    if target.ix[t_i,'F1'].split(',')[-1].strip()=='S':\n",
    "                        flag = 1 \n",
    "                    else: # 'W'\n",
    "                        w1 = 0.1 \n",
    "            if (flag==0) & (target.ix[t_i,'F1'].split(',')[-1].strip() =='S'): #is strong feature, and not match \n",
    "                s1 = 0 \n",
    "                    \n",
    "        flag = 0\n",
    "        if target.ix[t_i,'F2']==0: #isnan \n",
    "            s2=1\n",
    "        else:\n",
    "            for word in target.ix[t_i,'F2D'].split(','):\n",
    "                if porter.stem(word.strip()) in tokens:\n",
    "                    if target.ix[t_i,'F2'].split(',')[-1].strip() =='S':\n",
    "                        flag = 1 \n",
    "                    else: # 'W'\n",
    "                        w2 = 0.1 \n",
    "            if (flag ==0) & (target.ix[t_i,'F2'].split(',')[-1].strip() =='S'): #is strong feature, and not match \n",
    "                s2 = 0\n",
    "        \n",
    "        \n",
    "        flag = 0\n",
    "        if target.ix[t_i,'F3']==0:\n",
    "            s3=1\n",
    "        else:\n",
    "            for word in target.ix[t_i,'F3D'].split(','):\n",
    "                if porter.stem(word.strip()) in tokens:\n",
    "                    if target.ix[t_i,'F3'].split(',')[-1].strip() =='S':\n",
    "                        flag = 1 \n",
    "                    else: # 'W'\n",
    "                        w3 = 0.1\n",
    "                        \n",
    "            if (flag ==0) & (target.ix[t_i,'F3'].split(',')[-1].strip() =='S'): #is strong feature, and not match \n",
    "                s3 = 0\n",
    "                    \n",
    "        flag = 0\n",
    "        if target.ix[t_i,'F4']==0:\n",
    "            s4=1\n",
    "        else:\n",
    "            for word in target.ix[t_i,'F4D'].split(','):\n",
    "                if porter.stem(word.strip()) in tokens:\n",
    "                    if target.ix[t_i,'F4'].split(',')[-1].strip() =='S':\n",
    "                        flag = 1 \n",
    "                    else: # 'W'\n",
    "                        w4 = 0.1  \n",
    "            if (flag ==0) & (target.ix[t_i,'F4'].split(',')[-1].strip() =='S'): #is strong feature, and not match \n",
    "                s4 = 0\n",
    "            \n",
    "            \n",
    "        score = s1*s2*s3*s4*(1+w1+w2+w3+w4)\n",
    "        \n",
    "        \n",
    "        row[str(target.ix[t_i,'target'])] = score \n",
    "        \n",
    "        return row\n",
    "    \n",
    "    para = para.apply(func,axis=1)"
   ]
  },
  {
   "cell_type": "code",
   "execution_count": 49,
   "metadata": {
    "collapsed": false
   },
   "outputs": [],
   "source": [
    "para=para.rename(columns={'Unnamed: 0':'sector_sent'})"
   ]
  },
  {
   "cell_type": "code",
   "execution_count": 51,
   "metadata": {
    "collapsed": true
   },
   "outputs": [],
   "source": [
    "def splt(row):\n",
    "    row['sector'] = str(row['sector_sent']).split('_')[0]\n",
    "    row['sent_id'] = str(row['sector_sent']).split('_')[-1]\n",
    "    return row"
   ]
  },
  {
   "cell_type": "code",
   "execution_count": 52,
   "metadata": {
    "collapsed": false
   },
   "outputs": [],
   "source": [
    "para=para.apply(splt,axis=1)"
   ]
  },
  {
   "cell_type": "code",
   "execution_count": 53,
   "metadata": {
    "collapsed": false
   },
   "outputs": [],
   "source": [
    "para['sector'] = para.sector.astype('int')\n",
    "para['sent_id'] = para.sent_id.astype('int')\n",
    "para = para.set_index(['sector','sent_id'])\n",
    "para = para.sort_index()"
   ]
  },
  {
   "cell_type": "code",
   "execution_count": 55,
   "metadata": {
    "collapsed": false
   },
   "outputs": [],
   "source": [
    "para = para.drop(['sector_sent','tokens'],axis=1)"
   ]
  },
  {
   "cell_type": "code",
   "execution_count": 56,
   "metadata": {
    "collapsed": true
   },
   "outputs": [],
   "source": [
    "para.to_excel('sentence_result0421.xlsx')"
   ]
  },
  {
   "cell_type": "code",
   "execution_count": null,
   "metadata": {
    "collapsed": true
   },
   "outputs": [],
   "source": []
  }
 ],
 "metadata": {
  "anaconda-cloud": {},
  "kernelspec": {
   "display_name": "Python [default]",
   "language": "python",
   "name": "python2"
  },
  "language_info": {
   "codemirror_mode": {
    "name": "ipython",
    "version": 2
   },
   "file_extension": ".py",
   "mimetype": "text/x-python",
   "name": "python",
   "nbconvert_exporter": "python",
   "pygments_lexer": "ipython2",
   "version": "2.7.12"
  }
 },
 "nbformat": 4,
 "nbformat_minor": 1
}
